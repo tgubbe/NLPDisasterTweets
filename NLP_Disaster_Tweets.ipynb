{
  "nbformat": 4,
  "nbformat_minor": 0,
  "metadata": {
    "colab": {
      "provenance": [],
      "authorship_tag": "ABX9TyNAJRnyvN3/mZuIP4L3DlOO",
      "include_colab_link": true
    },
    "kernelspec": {
      "name": "python3",
      "display_name": "Python 3"
    },
    "language_info": {
      "name": "python"
    }
  },
  "cells": [
    {
      "cell_type": "markdown",
      "metadata": {
        "id": "view-in-github",
        "colab_type": "text"
      },
      "source": [
        "<a href=\"https://colab.research.google.com/github/tgubbe/NLPDisasterTweets/blob/main/NLP_Disaster_Tweets.ipynb\" target=\"_parent\"><img src=\"https://colab.research.google.com/assets/colab-badge.svg\" alt=\"Open In Colab\"/></a>"
      ]
    },
    {
      "cell_type": "markdown",
      "source": [
        "# **NLP Disaster Tweets**"
      ],
      "metadata": {
        "id": "W_8h6EYBr3a0"
      }
    },
    {
      "cell_type": "markdown",
      "source": [
        "In this session, I will attempt to create an accurate prediction model in order to determine if a tweet is disaster-related or is a normal tweet. This session was completed for a Kaggle competition, which can be found on the following link:\n",
        "\n",
        "https://www.kaggle.com/competitions/nlp-getting-started"
      ],
      "metadata": {
        "id": "hv_zw75x_Muo"
      }
    },
    {
      "cell_type": "markdown",
      "source": [
        "Before starting, there are many libraries and modules loaded in, including pandas, numpy, seaborn, and NLTK."
      ],
      "metadata": {
        "id": "RWTCBr24r8Sp"
      }
    },
    {
      "cell_type": "code",
      "execution_count": 1,
      "metadata": {
        "id": "_hA418O7QGwI"
      },
      "outputs": [],
      "source": [
        "import pandas as pd\n",
        "import numpy as np\n",
        "import seaborn as sns\n",
        "import matplotlib.pyplot as plt\n",
        "%matplotlib inline\n",
        "sns.set_style('darkgrid')"
      ]
    },
    {
      "cell_type": "code",
      "source": [
        "import nltk\n",
        "import re\n",
        "nltk.download('punkt')\n",
        "nltk.download('stopwords')\n",
        "nltk.download('wordnet')\n",
        "nltk.download('omw-1.4')\n",
        "from nltk.tokenize import word_tokenize\n",
        "from nltk.corpus import stopwords\n",
        "from collections import Counter\n",
        "import string\n",
        "from sklearn import metrics\n",
        "from sklearn.naive_bayes import MultinomialNB\n",
        "from sklearn.metrics import classification_report, confusion_matrix, plot_confusion_matrix"
      ],
      "metadata": {
        "colab": {
          "base_uri": "https://localhost:8080/"
        },
        "id": "VpXe5Mf9Qf3I",
        "outputId": "1236104c-1f07-4ec2-947b-7aa7ee45afc5"
      },
      "execution_count": 2,
      "outputs": [
        {
          "output_type": "stream",
          "name": "stderr",
          "text": [
            "[nltk_data] Downloading package punkt to /root/nltk_data...\n",
            "[nltk_data]   Unzipping tokenizers/punkt.zip.\n",
            "[nltk_data] Downloading package stopwords to /root/nltk_data...\n",
            "[nltk_data]   Unzipping corpora/stopwords.zip.\n",
            "[nltk_data] Downloading package wordnet to /root/nltk_data...\n",
            "[nltk_data] Downloading package omw-1.4 to /root/nltk_data...\n"
          ]
        }
      ]
    },
    {
      "cell_type": "code",
      "source": [
        "from google.colab import drive\n",
        "drive.mount(\"/content/gdrive\")"
      ],
      "metadata": {
        "colab": {
          "base_uri": "https://localhost:8080/"
        },
        "id": "yi76cYl_Qiqz",
        "outputId": "b51a1fa0-0a9c-4f85-dfe0-f5f1e571a1af"
      },
      "execution_count": 3,
      "outputs": [
        {
          "output_type": "stream",
          "name": "stdout",
          "text": [
            "Mounted at /content/gdrive\n"
          ]
        }
      ]
    },
    {
      "cell_type": "markdown",
      "source": [
        "The training and test data frames are loaded in:"
      ],
      "metadata": {
        "id": "sGmf34Y2DzbE"
      }
    },
    {
      "cell_type": "code",
      "source": [
        "train_df = pd.read_csv('/content/gdrive/My Drive/Datasets/train.csv')\n",
        "test_df = pd.read_csv('/content/gdrive/My Drive/Datasets/test.csv')"
      ],
      "metadata": {
        "id": "FuXuyIYZR3ux"
      },
      "execution_count": 4,
      "outputs": []
    },
    {
      "cell_type": "markdown",
      "source": [
        "The trian data frame is viewed, as well as the info."
      ],
      "metadata": {
        "id": "Q6wlUmWdD3q1"
      }
    },
    {
      "cell_type": "code",
      "source": [
        "train_df.head()"
      ],
      "metadata": {
        "colab": {
          "base_uri": "https://localhost:8080/",
          "height": 206
        },
        "id": "wV9l-9MfTKJJ",
        "outputId": "ec7b44bb-9907-44b2-bc8d-739c3d904b8c"
      },
      "execution_count": 5,
      "outputs": [
        {
          "output_type": "execute_result",
          "data": {
            "text/plain": [
              "   id keyword location                                               text  \\\n",
              "0   1     NaN      NaN  Our Deeds are the Reason of this #earthquake M...   \n",
              "1   4     NaN      NaN             Forest fire near La Ronge Sask. Canada   \n",
              "2   5     NaN      NaN  All residents asked to 'shelter in place' are ...   \n",
              "3   6     NaN      NaN  13,000 people receive #wildfires evacuation or...   \n",
              "4   7     NaN      NaN  Just got sent this photo from Ruby #Alaska as ...   \n",
              "\n",
              "   target  \n",
              "0       1  \n",
              "1       1  \n",
              "2       1  \n",
              "3       1  \n",
              "4       1  "
            ],
            "text/html": [
              "\n",
              "  <div id=\"df-ef50fa85-4acd-403f-950f-eddf64b192de\">\n",
              "    <div class=\"colab-df-container\">\n",
              "      <div>\n",
              "<style scoped>\n",
              "    .dataframe tbody tr th:only-of-type {\n",
              "        vertical-align: middle;\n",
              "    }\n",
              "\n",
              "    .dataframe tbody tr th {\n",
              "        vertical-align: top;\n",
              "    }\n",
              "\n",
              "    .dataframe thead th {\n",
              "        text-align: right;\n",
              "    }\n",
              "</style>\n",
              "<table border=\"1\" class=\"dataframe\">\n",
              "  <thead>\n",
              "    <tr style=\"text-align: right;\">\n",
              "      <th></th>\n",
              "      <th>id</th>\n",
              "      <th>keyword</th>\n",
              "      <th>location</th>\n",
              "      <th>text</th>\n",
              "      <th>target</th>\n",
              "    </tr>\n",
              "  </thead>\n",
              "  <tbody>\n",
              "    <tr>\n",
              "      <th>0</th>\n",
              "      <td>1</td>\n",
              "      <td>NaN</td>\n",
              "      <td>NaN</td>\n",
              "      <td>Our Deeds are the Reason of this #earthquake M...</td>\n",
              "      <td>1</td>\n",
              "    </tr>\n",
              "    <tr>\n",
              "      <th>1</th>\n",
              "      <td>4</td>\n",
              "      <td>NaN</td>\n",
              "      <td>NaN</td>\n",
              "      <td>Forest fire near La Ronge Sask. Canada</td>\n",
              "      <td>1</td>\n",
              "    </tr>\n",
              "    <tr>\n",
              "      <th>2</th>\n",
              "      <td>5</td>\n",
              "      <td>NaN</td>\n",
              "      <td>NaN</td>\n",
              "      <td>All residents asked to 'shelter in place' are ...</td>\n",
              "      <td>1</td>\n",
              "    </tr>\n",
              "    <tr>\n",
              "      <th>3</th>\n",
              "      <td>6</td>\n",
              "      <td>NaN</td>\n",
              "      <td>NaN</td>\n",
              "      <td>13,000 people receive #wildfires evacuation or...</td>\n",
              "      <td>1</td>\n",
              "    </tr>\n",
              "    <tr>\n",
              "      <th>4</th>\n",
              "      <td>7</td>\n",
              "      <td>NaN</td>\n",
              "      <td>NaN</td>\n",
              "      <td>Just got sent this photo from Ruby #Alaska as ...</td>\n",
              "      <td>1</td>\n",
              "    </tr>\n",
              "  </tbody>\n",
              "</table>\n",
              "</div>\n",
              "      <button class=\"colab-df-convert\" onclick=\"convertToInteractive('df-ef50fa85-4acd-403f-950f-eddf64b192de')\"\n",
              "              title=\"Convert this dataframe to an interactive table.\"\n",
              "              style=\"display:none;\">\n",
              "        \n",
              "  <svg xmlns=\"http://www.w3.org/2000/svg\" height=\"24px\"viewBox=\"0 0 24 24\"\n",
              "       width=\"24px\">\n",
              "    <path d=\"M0 0h24v24H0V0z\" fill=\"none\"/>\n",
              "    <path d=\"M18.56 5.44l.94 2.06.94-2.06 2.06-.94-2.06-.94-.94-2.06-.94 2.06-2.06.94zm-11 1L8.5 8.5l.94-2.06 2.06-.94-2.06-.94L8.5 2.5l-.94 2.06-2.06.94zm10 10l.94 2.06.94-2.06 2.06-.94-2.06-.94-.94-2.06-.94 2.06-2.06.94z\"/><path d=\"M17.41 7.96l-1.37-1.37c-.4-.4-.92-.59-1.43-.59-.52 0-1.04.2-1.43.59L10.3 9.45l-7.72 7.72c-.78.78-.78 2.05 0 2.83L4 21.41c.39.39.9.59 1.41.59.51 0 1.02-.2 1.41-.59l7.78-7.78 2.81-2.81c.8-.78.8-2.07 0-2.86zM5.41 20L4 18.59l7.72-7.72 1.47 1.35L5.41 20z\"/>\n",
              "  </svg>\n",
              "      </button>\n",
              "      \n",
              "  <style>\n",
              "    .colab-df-container {\n",
              "      display:flex;\n",
              "      flex-wrap:wrap;\n",
              "      gap: 12px;\n",
              "    }\n",
              "\n",
              "    .colab-df-convert {\n",
              "      background-color: #E8F0FE;\n",
              "      border: none;\n",
              "      border-radius: 50%;\n",
              "      cursor: pointer;\n",
              "      display: none;\n",
              "      fill: #1967D2;\n",
              "      height: 32px;\n",
              "      padding: 0 0 0 0;\n",
              "      width: 32px;\n",
              "    }\n",
              "\n",
              "    .colab-df-convert:hover {\n",
              "      background-color: #E2EBFA;\n",
              "      box-shadow: 0px 1px 2px rgba(60, 64, 67, 0.3), 0px 1px 3px 1px rgba(60, 64, 67, 0.15);\n",
              "      fill: #174EA6;\n",
              "    }\n",
              "\n",
              "    [theme=dark] .colab-df-convert {\n",
              "      background-color: #3B4455;\n",
              "      fill: #D2E3FC;\n",
              "    }\n",
              "\n",
              "    [theme=dark] .colab-df-convert:hover {\n",
              "      background-color: #434B5C;\n",
              "      box-shadow: 0px 1px 3px 1px rgba(0, 0, 0, 0.15);\n",
              "      filter: drop-shadow(0px 1px 2px rgba(0, 0, 0, 0.3));\n",
              "      fill: #FFFFFF;\n",
              "    }\n",
              "  </style>\n",
              "\n",
              "      <script>\n",
              "        const buttonEl =\n",
              "          document.querySelector('#df-ef50fa85-4acd-403f-950f-eddf64b192de button.colab-df-convert');\n",
              "        buttonEl.style.display =\n",
              "          google.colab.kernel.accessAllowed ? 'block' : 'none';\n",
              "\n",
              "        async function convertToInteractive(key) {\n",
              "          const element = document.querySelector('#df-ef50fa85-4acd-403f-950f-eddf64b192de');\n",
              "          const dataTable =\n",
              "            await google.colab.kernel.invokeFunction('convertToInteractive',\n",
              "                                                     [key], {});\n",
              "          if (!dataTable) return;\n",
              "\n",
              "          const docLinkHtml = 'Like what you see? Visit the ' +\n",
              "            '<a target=\"_blank\" href=https://colab.research.google.com/notebooks/data_table.ipynb>data table notebook</a>'\n",
              "            + ' to learn more about interactive tables.';\n",
              "          element.innerHTML = '';\n",
              "          dataTable['output_type'] = 'display_data';\n",
              "          await google.colab.output.renderOutput(dataTable, element);\n",
              "          const docLink = document.createElement('div');\n",
              "          docLink.innerHTML = docLinkHtml;\n",
              "          element.appendChild(docLink);\n",
              "        }\n",
              "      </script>\n",
              "    </div>\n",
              "  </div>\n",
              "  "
            ]
          },
          "metadata": {},
          "execution_count": 5
        }
      ]
    },
    {
      "cell_type": "code",
      "source": [
        "train_df.info()"
      ],
      "metadata": {
        "colab": {
          "base_uri": "https://localhost:8080/"
        },
        "id": "r-tib5TCSOgH",
        "outputId": "97d7431f-91fd-4102-b3be-bc10fca6d47a"
      },
      "execution_count": 6,
      "outputs": [
        {
          "output_type": "stream",
          "name": "stdout",
          "text": [
            "<class 'pandas.core.frame.DataFrame'>\n",
            "RangeIndex: 7613 entries, 0 to 7612\n",
            "Data columns (total 5 columns):\n",
            " #   Column    Non-Null Count  Dtype \n",
            "---  ------    --------------  ----- \n",
            " 0   id        7613 non-null   int64 \n",
            " 1   keyword   7552 non-null   object\n",
            " 2   location  5080 non-null   object\n",
            " 3   text      7613 non-null   object\n",
            " 4   target    7613 non-null   int64 \n",
            "dtypes: int64(2), object(3)\n",
            "memory usage: 297.5+ KB\n"
          ]
        }
      ]
    },
    {
      "cell_type": "markdown",
      "source": [
        "## **Exploratory Data Analysis**"
      ],
      "metadata": {
        "id": "Ruk7sLdj5cVT"
      }
    },
    {
      "cell_type": "markdown",
      "source": [
        "Next, basic exploratory data analysis are completed, including viewing the data and creating charts to understand the data.\n",
        "\n",
        "First, the missing values and duplicated values are viewed."
      ],
      "metadata": {
        "id": "Gvx1NPvnEZv0"
      }
    },
    {
      "cell_type": "code",
      "source": [
        "train_df.isnull().sum()"
      ],
      "metadata": {
        "colab": {
          "base_uri": "https://localhost:8080/"
        },
        "id": "8lkeow3dSRi6",
        "outputId": "0453ea51-06ce-4c7d-9feb-50d1a2cbd79a"
      },
      "execution_count": 7,
      "outputs": [
        {
          "output_type": "execute_result",
          "data": {
            "text/plain": [
              "id             0\n",
              "keyword       61\n",
              "location    2533\n",
              "text           0\n",
              "target         0\n",
              "dtype: int64"
            ]
          },
          "metadata": {},
          "execution_count": 7
        }
      ]
    },
    {
      "cell_type": "code",
      "source": [
        "train_df.duplicated().sum()"
      ],
      "metadata": {
        "colab": {
          "base_uri": "https://localhost:8080/"
        },
        "id": "sBL_9M4wiI7y",
        "outputId": "cb80e78f-0191-4f83-9c01-51c8068f033e"
      },
      "execution_count": 8,
      "outputs": [
        {
          "output_type": "execute_result",
          "data": {
            "text/plain": [
              "0"
            ]
          },
          "metadata": {},
          "execution_count": 8
        }
      ]
    },
    {
      "cell_type": "markdown",
      "source": [
        "There aren't any duplicated values in the training data frame, though there are missing values in the keyword and location columns.\n",
        "\n",
        "Next, a value counts is run to see the most popular locations in the training data frame."
      ],
      "metadata": {
        "id": "W7zk2q_7Ep76"
      }
    },
    {
      "cell_type": "code",
      "source": [
        "train_df['location'].value_counts()"
      ],
      "metadata": {
        "colab": {
          "base_uri": "https://localhost:8080/"
        },
        "id": "Sl5HcoCzhglv",
        "outputId": "e922f077-bcbb-4470-f7c9-209aa49a35fd"
      },
      "execution_count": 9,
      "outputs": [
        {
          "output_type": "execute_result",
          "data": {
            "text/plain": [
              "USA                    104\n",
              "New York                71\n",
              "United States           50\n",
              "London                  45\n",
              "Canada                  29\n",
              "                      ... \n",
              "MontrÌ©al, QuÌ©bec       1\n",
              "Montreal                 1\n",
              "ÌÏT: 6.4682,3.18287      1\n",
              "Live4Heed??              1\n",
              "Lincoln                  1\n",
              "Name: location, Length: 3341, dtype: int64"
            ]
          },
          "metadata": {},
          "execution_count": 9
        }
      ]
    },
    {
      "cell_type": "markdown",
      "source": [
        "There are two different variations of Unites States (USA and United States). This can be combined by replacing the USA count to 'United States'"
      ],
      "metadata": {
        "id": "XEVlXE6jFJHo"
      }
    },
    {
      "cell_type": "code",
      "source": [
        "#Replace the 'USA' entry names with 'United States'\n",
        "train_df['location'] = train_df['location'].replace(['USA'], 'United States')"
      ],
      "metadata": {
        "id": "ra9CcFQB2oX5"
      },
      "execution_count": 10,
      "outputs": []
    },
    {
      "cell_type": "markdown",
      "source": [
        "The value counts are re-run to see the value counts update.\n",
        "\n",
        "This can be done for every value count and combine in various ways. Since I'll be using the 'target' and 'text' columns for analysis, I won't be looking to much further into the 'location' column."
      ],
      "metadata": {
        "id": "z9-h6UQ9FTH4"
      }
    },
    {
      "cell_type": "code",
      "source": [
        "train_df['location'].value_counts()"
      ],
      "metadata": {
        "colab": {
          "base_uri": "https://localhost:8080/"
        },
        "id": "zxgyc9QO20iL",
        "outputId": "6d5a4f04-6225-4ac0-8e82-1fc4ffda65a1"
      },
      "execution_count": 11,
      "outputs": [
        {
          "output_type": "execute_result",
          "data": {
            "text/plain": [
              "United States          154\n",
              "New York                71\n",
              "London                  45\n",
              "Canada                  29\n",
              "Nigeria                 28\n",
              "                      ... \n",
              "MontrÌ©al, QuÌ©bec       1\n",
              "Montreal                 1\n",
              "ÌÏT: 6.4682,3.18287      1\n",
              "Live4Heed??              1\n",
              "Lincoln                  1\n",
              "Name: location, Length: 3340, dtype: int64"
            ]
          },
          "metadata": {},
          "execution_count": 11
        }
      ]
    },
    {
      "cell_type": "markdown",
      "source": [
        "Next, the first 10 non-disaster tweets and first 10 disaster tweets are viewed to see the compisition of the tweets."
      ],
      "metadata": {
        "id": "iIcJ-wmsF8y-"
      }
    },
    {
      "cell_type": "code",
      "source": [
        "train_df[train_df['target'] == 0]['text'][:10]"
      ],
      "metadata": {
        "colab": {
          "base_uri": "https://localhost:8080/"
        },
        "id": "Hool2nOvT9vI",
        "outputId": "d0a077ab-8a06-49b0-c319-fbe11ef16e48"
      },
      "execution_count": 12,
      "outputs": [
        {
          "output_type": "execute_result",
          "data": {
            "text/plain": [
              "15                  What's up man?\n",
              "16                   I love fruits\n",
              "17                Summer is lovely\n",
              "18               My car is so fast\n",
              "19    What a goooooooaaaaaal!!!!!!\n",
              "20          this is ridiculous....\n",
              "21               London is cool ;)\n",
              "22                     Love skiing\n",
              "23           What a wonderful day!\n",
              "24                        LOOOOOOL\n",
              "Name: text, dtype: object"
            ]
          },
          "metadata": {},
          "execution_count": 12
        }
      ]
    },
    {
      "cell_type": "code",
      "source": [
        "train_df[train_df['target'] == 1]['text'][:10]"
      ],
      "metadata": {
        "colab": {
          "base_uri": "https://localhost:8080/"
        },
        "id": "mEDBFe00dfmt",
        "outputId": "5a9782af-daad-4489-b7dc-3edfc26fe066"
      },
      "execution_count": 13,
      "outputs": [
        {
          "output_type": "execute_result",
          "data": {
            "text/plain": [
              "0    Our Deeds are the Reason of this #earthquake M...\n",
              "1               Forest fire near La Ronge Sask. Canada\n",
              "2    All residents asked to 'shelter in place' are ...\n",
              "3    13,000 people receive #wildfires evacuation or...\n",
              "4    Just got sent this photo from Ruby #Alaska as ...\n",
              "5    #RockyFire Update => California Hwy. 20 closed...\n",
              "6    #flood #disaster Heavy rain causes flash flood...\n",
              "7    I'm on top of the hill and I can see a fire in...\n",
              "8    There's an emergency evacuation happening now ...\n",
              "9    I'm afraid that the tornado is coming to our a...\n",
              "Name: text, dtype: object"
            ]
          },
          "metadata": {},
          "execution_count": 13
        }
      ]
    },
    {
      "cell_type": "markdown",
      "source": [
        "A countplot is created to see how many disaster and non-disaster tweets are in the training set data frame. 0 represents non-disaster tweets, while 1 represents disaster tweets."
      ],
      "metadata": {
        "id": "mE2SSSChG2mm"
      }
    },
    {
      "cell_type": "code",
      "source": [
        "#Countplot created, where 0 = No Disaster and 1 = Disaster\n",
        "sns.countplot(x = 'target', data = train_df)"
      ],
      "metadata": {
        "colab": {
          "base_uri": "https://localhost:8080/",
          "height": 296
        },
        "id": "UiBUV12kT_Zb",
        "outputId": "397ebb06-76eb-4d71-d2b7-9dc925f62369"
      },
      "execution_count": 14,
      "outputs": [
        {
          "output_type": "execute_result",
          "data": {
            "text/plain": [
              "<matplotlib.axes._subplots.AxesSubplot at 0x7f8808c27280>"
            ]
          },
          "metadata": {},
          "execution_count": 14
        },
        {
          "output_type": "display_data",
          "data": {
            "text/plain": [
              "<Figure size 432x288 with 1 Axes>"
            ],
            "image/png": "[encoded data removed]"
          },
          "metadata": {}
        }
      ]
    },
    {
      "cell_type": "markdown",
      "source": [
        "Another way to view the proportion of disaster and non-disaster tweets is to use a pie chart. A pie chart is created to see another representation of the proportion of disaster and non-disaster tweets in the training data frame."
      ],
      "metadata": {
        "id": "HDFfg4QaHGCv"
      }
    },
    {
      "cell_type": "code",
      "source": [
        "#Counts the amount of disasters and non-disasters from 'target'. \n",
        "sum_disaster = train_df['target'].value_counts()\n",
        "#Adds color to pie chart\n",
        "colors = sns.color_palette()[0:2]\n",
        "label_values = ['No Disaster', 'Disaster']\n",
        "#Plots pie chart\n",
        "plt.pie(sum_disaster.values, labels = label_values, colors = colors, autopct = '%.0f%%', shadow = True)\n",
        "plt.title('Percentage of Count Values for Each Category')\n",
        "#Edit font size\n",
        "plt.rcParams['font.size'] = 12"
      ],
      "metadata": {
        "colab": {
          "base_uri": "https://localhost:8080/",
          "height": 264
        },
        "id": "CeIwAmfNHQXi",
        "outputId": "a35cbd04-eaaa-4ccc-e500-698f3442990e"
      },
      "execution_count": 15,
      "outputs": [
        {
          "output_type": "display_data",
          "data": {
            "text/plain": [
              "<Figure size 432x288 with 1 Axes>"
            ],
            "image/png": "[encoded data removed]"
          },
          "metadata": {}
        }
      ]
    },
    {
      "cell_type": "markdown",
      "source": [
        "A histogram breakdown can also be created to see the word count distribution of both disaster and non-disaster (normal) tweets.\n",
        "\n",
        "From the histogram, it appears the non-disaster tweet word counts are normally distributed, while the disaster tweet word counts may have a bimodal distribution."
      ],
      "metadata": {
        "id": "KjBdmJwgHZek"
      }
    },
    {
      "cell_type": "code",
      "source": [
        "#New data frames are created, with one containing all of the non-disaster (normal) tweets and another containing all of the disaster tweets.\n",
        "normal_tweet = train_df[train_df['target'] == 0]\n",
        "disaster_tweet = train_df[train_df['target'] == 1]\n",
        "#A histogram plot for word length is created for both normal and disaster tweets and combined on one plot.\n",
        "plt.hist(normal_tweet['text'].apply(lambda x: len(x.split())), label = 'Normal', bins = 15, alpha = 0.7)\n",
        "plt.hist(disaster_tweet['text'].apply(lambda x: len(x.split())), label = 'Disaster', bins = 15, alpha = 0.7)\n",
        "#The title, legend, and labels are created for the histogram plot.\n",
        "plt.title('Total Word Amount in Tweets for Disasters and Non-Disasters')\n",
        "plt.legend()\n",
        "plt.xlabel('Number of Words')\n",
        "plt.ylabel('Total Count')"
      ],
      "metadata": {
        "colab": {
          "base_uri": "https://localhost:8080/",
          "height": 319
        },
        "id": "MFDtdIuC9dWj",
        "outputId": "663f1216-3734-4dff-da87-f40a6b997e24"
      },
      "execution_count": 16,
      "outputs": [
        {
          "output_type": "execute_result",
          "data": {
            "text/plain": [
              "Text(0, 0.5, 'Total Count')"
            ]
          },
          "metadata": {},
          "execution_count": 16
        },
        {
          "output_type": "display_data",
          "data": {
            "text/plain": [
              "<Figure size 432x288 with 1 Axes>"
            ],
            "image/png": "[encoded data removed]"
          },
          "metadata": {}
        }
      ]
    },
    {
      "cell_type": "markdown",
      "source": [
        "A histogram is also completed to see the character count of both disaster and normal tweets.\n",
        "\n",
        "From the histograms, it appears disaster tweets have generally had a higher character count than normal tweets. Descriptive statistics and hypothesis testing could be done to confirm."
      ],
      "metadata": {
        "id": "Oy1zFrRpIQSK"
      }
    },
    {
      "cell_type": "code",
      "source": [
        "plt.hist(normal_tweet['text'].apply(lambda x: len(x)), label = 'No Disaster', bins = 15, alpha = 0.7)\n",
        "plt.hist(disaster_tweet['text'].apply(lambda x: len(x)), label = 'Actual Disaster', bins = 15, alpha = 0.7)\n",
        "\n",
        "plt.title('Total Character Amount in Tweets for Disasters and Non-Disasters')\n",
        "plt.legend()\n",
        "plt.xlabel('Number of Characters')\n",
        "plt.ylabel('Total Count')"
      ],
      "metadata": {
        "colab": {
          "base_uri": "https://localhost:8080/",
          "height": 319
        },
        "id": "UKW2AaQBGmnh",
        "outputId": "8af05bbf-5be9-44f9-da64-2f79a4fba2e2"
      },
      "execution_count": 17,
      "outputs": [
        {
          "output_type": "execute_result",
          "data": {
            "text/plain": [
              "Text(0, 0.5, 'Total Count')"
            ]
          },
          "metadata": {},
          "execution_count": 17
        },
        {
          "output_type": "display_data",
          "data": {
            "text/plain": [
              "<Figure size 432x288 with 1 Axes>"
            ],
            "image/png": "[encoded data removed]"
          },
          "metadata": {}
        }
      ]
    },
    {
      "cell_type": "markdown",
      "source": [
        "### **Creating a Text Cleaner**"
      ],
      "metadata": {
        "id": "NqhObZWwVHFS"
      }
    },
    {
      "cell_type": "markdown",
      "source": [
        "After looking at the 'text' column in the train data frame, the text will need to be cleaned before analysis.\n",
        "\n",
        "A text cleaner function, a remove emoji function, and a lemmatize function are created to clean the text, remove the emojis, and lemmatize the text in the tweets."
      ],
      "metadata": {
        "id": "fZ5IzFWZJw-S"
      }
    },
    {
      "cell_type": "markdown",
      "source": [
        "First, a set of stopwords are imported from the NLTK library. Stopwords are commonly used words that are usually removed in Natural Language Processing to help speed along the analysis. Stopwords include (but not limited to): a, an, and, he, her, and the."
      ],
      "metadata": {
        "id": "WAR9CECFKOLW"
      }
    },
    {
      "cell_type": "code",
      "source": [
        "#Creates the set of stopwords in the English language.\n",
        "stop = set([w for w in nltk.corpus.stopwords.words('english')])"
      ],
      "metadata": {
        "id": "mwknJDmm_Wx4"
      },
      "execution_count": 18,
      "outputs": []
    },
    {
      "cell_type": "markdown",
      "source": [
        "Next, the text cleaner function is created, which will be used to clean the text."
      ],
      "metadata": {
        "id": "0ETiwoNXL3Ty"
      }
    },
    {
      "cell_type": "code",
      "source": [
        "#Creates the text_cleaner function, which will be used to clean the text in the train_df dataframe.\n",
        "def text_cleaner(text):\n",
        "  #text = re.sub(r'MH370', 'Malaysia Airlines Flight 370', text) #Replaces MH370 with airline and flight number\n",
        "  text = re.sub(r'http\\S*\\s?', '', text) #Removes URLs\n",
        "  text = re.sub(r'\\d+', '', text) #Removes numbers\n",
        "  text = re.sub(r'[^\\w\\s]','', text) #Removes punctuation\n",
        "  text = re.sub(r'http', '', text) #Removes http\n",
        "  text = re.sub(r'wan', '', text) #Removes 'wan'\n",
        "  text = re.sub(r'gon', '', text) #Removes 'gon'\n",
        "  text = re.sub(r'&gt', '>', text) #Replaces gt with greater than symbol\n",
        "  text = re.sub(r'&lt', '<', text) #Replaces lt with less than symbol\n",
        "  text = re.sub(r'&amp;', '&', text) #Replaces &amp with ampersand symbol\n",
        "  text = re.sub(r'\\s+', ' ', text) #Removes extra whitespace\n",
        "  text = ' '.join([i for i in text.split() if i not in stop])\n",
        "  text = text.lower() #Makes all of the words lower case\n",
        "  return text"
      ],
      "metadata": {
        "id": "TDjOoI6UUQtY"
      },
      "execution_count": 19,
      "outputs": []
    },
    {
      "cell_type": "markdown",
      "source": [
        "In addition, a remove emoji function is created, which will be used to remove the emojis in the text. The code was created by GitHub user slowkow. The code can be found on the link below:"
      ],
      "metadata": {
        "id": "ZIAVM2RwL_Rg"
      }
    },
    {
      "cell_type": "code",
      "source": [
        "# Reference: https://gist.github.com/slowkow/7a7f61f495e3dbb7e3d767f97bd7304b\n",
        "def remove_emoji(text):\n",
        "    emojis = re.compile(\"[\"\n",
        "                               u\"\\U0001F600-\\U0001F64F\"  # emoticons\n",
        "                               u\"\\U0001F300-\\U0001F5FF\"  # symbols & pictographs\n",
        "                               u\"\\U0001F680-\\U0001F6FF\"  # transport & map symbols\n",
        "                               u\"\\U0001F1E0-\\U0001F1FF\"  # flags (iOS)\n",
        "                               u\"\\U00002500-\\U00002BEF\"  # chinese char\n",
        "                               u\"\\U00002702-\\U000027B0\"\n",
        "                               u\"\\U00002702-\\U000027B0\"\n",
        "                               u\"\\U000024C2-\\U0001F251\"\n",
        "                               u\"\\U0001f926-\\U0001f937\"\n",
        "                               u\"\\U00010000-\\U0010ffff\"\n",
        "                               u\"\\u2640-\\u2642\"\n",
        "                               u\"\\u2600-\\u2B55\"\n",
        "                               u\"\\u200d\"\n",
        "                               u\"\\u23cf\"\n",
        "                               u\"\\u23e9\"\n",
        "                               u\"\\u231a\"\n",
        "                               u\"\\ufe0f\"  # dingbats\n",
        "                               u\"\\u3030\"\n",
        "                               \"]+\", flags=re.UNICODE)\n",
        "    return emojis.sub(r'', text)"
      ],
      "metadata": {
        "id": "wgBaEAiFXxs_"
      },
      "execution_count": 20,
      "outputs": []
    },
    {
      "cell_type": "markdown",
      "source": [
        "Next, a text lemmatizer is added to the text column. Lemmatization helps reduce words to a single form. "
      ],
      "metadata": {
        "id": "zgOHsQ_cYjAl"
      }
    },
    {
      "cell_type": "code",
      "source": [
        "#Calls the WordNetLemmetizer from NLTK library and saves in the lemmatizer variable.\n",
        "lemmatizer = nltk.stem.WordNetLemmatizer()\n",
        "#Creates the lemmatize function.\n",
        "def lemmatize_text(text):\n",
        "  text = ' '.join(lemmatizer.lemmatize(word) for word in text.split(' '))\n",
        "  return text"
      ],
      "metadata": {
        "id": "ZdxWQ_E1ATYn"
      },
      "execution_count": 21,
      "outputs": []
    },
    {
      "cell_type": "markdown",
      "source": [
        "### **Bigrams for Disaster and Normal Tweets**"
      ],
      "metadata": {
        "id": "zjkJB4vWVQR_"
      }
    },
    {
      "cell_type": "markdown",
      "source": [
        "The data will be checked for bigrams, which are a sequence of two consecutive elements from a string of tokens. An example would be a name ('John Doe') or phrase ('First Place').\n",
        "\n",
        "First, the text cleaner and remove emoji functions are applied to the training_data data frame."
      ],
      "metadata": {
        "id": "yjP435meMWk-"
      }
    },
    {
      "cell_type": "code",
      "source": [
        "#The text cleaner and remove emoji functions are applied to the train_df data frame.\n",
        "train_df['text'] = train_df['text'].apply(lambda x: text_cleaner(x))\n",
        "train_df['text'] = train_df['text'].apply(lambda x: remove_emoji(x))\n",
        "train_df['text'] = train_df['text'].apply(lambda x:lemmatize_text(x))\n",
        "#The normal and disaster tweets data frames are set up.\n",
        "normal_tweet = train_df[train_df['target'] == 0]\n",
        "disaster_tweet = train_df[train_df['target'] == 1]"
      ],
      "metadata": {
        "id": "0by9CR_AhDBr"
      },
      "execution_count": 22,
      "outputs": []
    },
    {
      "cell_type": "markdown",
      "source": [
        "Next, a tokenizer needs to be implemented in order to break down the text into chunks. From this, a bigram model can be created to find the most common two consecutive tokens for both the normal and disaster tweets. The tokenizer and bigrams model are first completed for the normal tweets data frame. From the models, the bigrams are printed to view the 10 most popular bigrams."
      ],
      "metadata": {
        "id": "2TSnKqt2MqHP"
      }
    },
    {
      "cell_type": "code",
      "source": [
        "normal_tokens = [w for c in normal_tweet['text']\n",
        "                    for s in nltk.sent_tokenize(c)\n",
        "                    for w in nltk.word_tokenize(s)\n",
        "                    if w.isalpha() and w not in stop]\n",
        "\n",
        "normal_bigrams = nltk.FreqDist(nltk.bigrams(normal_tokens))\n",
        "normal_bigrams"
      ],
      "metadata": {
        "colab": {
          "base_uri": "https://localhost:8080/"
        },
        "id": "yKFQDjBTQDBl",
        "outputId": "3f0eba34-2dac-40cd-d6c1-b27cc7a92827"
      },
      "execution_count": 23,
      "outputs": [
        {
          "output_type": "execute_result",
          "data": {
            "text/plain": [
              "FreqDist({('body', 'bag'): 46, ('cross', 'body'): 38, ('youtube', 'video'): 36, ('liked', 'youtube'): 35, ('look', 'like'): 32, ('feel', 'like'): 25, ('body', 'bagging'): 23, ('burning', 'building'): 23, ('full', 'read'): 22, ('reddit', 'quarantine'): 21, ...})"
            ]
          },
          "metadata": {},
          "execution_count": 23
        }
      ]
    },
    {
      "cell_type": "markdown",
      "source": [
        "The same process is done for the disaster tweets data frame."
      ],
      "metadata": {
        "id": "9zf-yPB0M9je"
      }
    },
    {
      "cell_type": "code",
      "source": [
        "disaster_tokens = [w for c in disaster_tweet['text']\n",
        "                    for s in nltk.sent_tokenize(c)\n",
        "                    for w in nltk.word_tokenize(s)\n",
        "                    if w.isalpha() and w not in stop]\n",
        "\n",
        "disaster_bigrams = nltk.FreqDist(nltk.bigrams(disaster_tokens))\n",
        "disaster_bigrams"
      ],
      "metadata": {
        "colab": {
          "base_uri": "https://localhost:8080/"
        },
        "id": "FUPlqmuMS8gc",
        "outputId": "2b12674a-7daa-4e23-f0ea-7a1eea8ffbca"
      },
      "execution_count": 24,
      "outputs": [
        {
          "output_type": "execute_result",
          "data": {
            "text/plain": [
              "FreqDist({('suicide', 'bomber'): 60, ('northern', 'california'): 41, ('oil', 'spill'): 38, ('california', 'wildfire'): 36, ('burning', 'building'): 35, ('suicide', 'bombing'): 34, ('bomber', 'detonated'): 30, ('confirmed', 'mh'): 29, ('yr', 'old'): 29, ('home', 'razed'): 29, ...})"
            ]
          },
          "metadata": {},
          "execution_count": 24
        }
      ]
    },
    {
      "cell_type": "markdown",
      "source": [
        "A histogram is created to view the top 20 bigrams of the normal tweets in the training_df data frame."
      ],
      "metadata": {
        "id": "C3FmRyUqOSit"
      }
    },
    {
      "cell_type": "code",
      "source": [
        "#Creates a counter for the disaster bigrams\n",
        "freq_count_normal = Counter(normal_bigrams)\n",
        "#Creates a new Pandas dataframe of the count\n",
        "normal_count = pd.DataFrame(freq_count_normal.most_common(20))\n",
        "#Creates a barplot of the top 20 Bigrams of Disaster Tweets\n",
        "plt.figure(figsize=(12,6))\n",
        "norm_plot = sns.barplot(x = normal_count[1], y = normal_count[0])\n",
        "#Sets the labels in the barplot.\n",
        "norm_plot.set(xlabel = 'Count', ylabel = 'Bigram', title = 'Top 20 Bigrams of Normal Tweets')"
      ],
      "metadata": {
        "colab": {
          "base_uri": "https://localhost:8080/",
          "height": 463
        },
        "id": "B0OVPkGBSw3z",
        "outputId": "5a63ad86-1caa-4980-c59c-9f4d620e0a77"
      },
      "execution_count": 25,
      "outputs": [
        {
          "output_type": "execute_result",
          "data": {
            "text/plain": [
              "[Text(0, 0.5, 'Bigram'),\n",
              " Text(0.5, 0, 'Count'),\n",
              " Text(0.5, 1.0, 'Top 20 Bigrams of Normal Tweets')]"
            ]
          },
          "metadata": {},
          "execution_count": 25
        },
        {
          "output_type": "display_data",
          "data": {
            "text/plain": [
              "<Figure size 864x432 with 1 Axes>"
            ],
            "image/png": "[encoded data removed]"
          },
          "metadata": {}
        }
      ]
    },
    {
      "cell_type": "markdown",
      "source": [
        "A histogram is also created for the top 20 bigrams of the disaster tweets in the training_df data frame."
      ],
      "metadata": {
        "id": "bxkB26rsOsRR"
      }
    },
    {
      "cell_type": "code",
      "source": [
        "#Creates a counter for the disaster bigrams\n",
        "freq_count_disaster = Counter(disaster_bigrams)\n",
        "#Creates a new Pandas dataframe of the count\n",
        "disaster_count = pd.DataFrame(freq_count_disaster.most_common(20))\n",
        "#Creates a barplot of the top 20 Bigrams of Disaster Tweets\n",
        "plt.figure(figsize=(12,6))\n",
        "dis_plot = sns.barplot(x = disaster_count[1], y = disaster_count[0])\n",
        "#Sets the labels in the barplot.\n",
        "dis_plot.set(xlabel = 'Count', ylabel = 'Bigram', title = 'Top 20 Bigrams of Disaster Tweets')"
      ],
      "metadata": {
        "id": "YMN9mQqGRjK5",
        "colab": {
          "base_uri": "https://localhost:8080/",
          "height": 463
        },
        "outputId": "680f10f3-ef2b-49d0-cc03-53166d12159c"
      },
      "execution_count": 26,
      "outputs": [
        {
          "output_type": "execute_result",
          "data": {
            "text/plain": [
              "[Text(0, 0.5, 'Bigram'),\n",
              " Text(0.5, 0, 'Count'),\n",
              " Text(0.5, 1.0, 'Top 20 Bigrams of Disaster Tweets')]"
            ]
          },
          "metadata": {},
          "execution_count": 26
        },
        {
          "output_type": "display_data",
          "data": {
            "text/plain": [
              "<Figure size 864x432 with 1 Axes>"
            ],
            "image/png": "[encoded data removed]"
          },
          "metadata": {}
        }
      ]
    },
    {
      "cell_type": "markdown",
      "source": [
        "Comparing the bigrams, there aren't any similarities between the disaster and normal tweets. In the disaster tweets, there are a few mentions of the MH Malaysia Flight 370 ('mh'), while the normal tweets top 20 bigrams there are a couple of combinations of 'body bag', including 'body bags' and 'body bagging'."
      ],
      "metadata": {
        "id": "XZKF1N2RQ8qI"
      }
    },
    {
      "cell_type": "markdown",
      "source": [
        "## **Prediction Models for Disaster Tweets**"
      ],
      "metadata": {
        "id": "2HdUKRcqTynK"
      }
    },
    {
      "cell_type": "markdown",
      "source": [
        "Next, a couple of prediction models will be created to determine if the tweet is related to a disaster.\n",
        "\n",
        "First, the modules that will be used for the prediction models are imported below:"
      ],
      "metadata": {
        "id": "09gHOtPIek9j"
      }
    },
    {
      "cell_type": "code",
      "source": [
        "from sklearn.feature_extraction.text import CountVectorizer #For Count Vectorizor.\n",
        "from sklearn.model_selection import train_test_split #For train/test split.\n",
        "from sklearn.linear_model import LogisticRegression #For Logistic Regression.\n",
        "from sklearn.feature_extraction.text import TfidfTransformer\n",
        "from sklearn.pipeline import Pipeline"
      ],
      "metadata": {
        "id": "bTILrREMWZve"
      },
      "execution_count": 27,
      "outputs": []
    },
    {
      "cell_type": "markdown",
      "source": [
        "A Logistic Regression algorithm will be run first, followed by a Multinomial Bayes algorithm. Logistic Regression is a classification algorithm suited for binary classification problems, or yes/no problems."
      ],
      "metadata": {
        "id": "TZ9HpeVEyFhA"
      }
    },
    {
      "cell_type": "markdown",
      "source": [
        "The train/test data sets are created in a NumPy array, then split 70/30 (70% training set, 30% test set)."
      ],
      "metadata": {
        "id": "5Jvibww3y4zo"
      }
    },
    {
      "cell_type": "code",
      "source": [
        "#X and y are created to return a NumPy array. \n",
        "X = train_df['text'].values\n",
        "y = train_df['target'].values"
      ],
      "metadata": {
        "id": "XdvSyzruWm_8"
      },
      "execution_count": 28,
      "outputs": []
    },
    {
      "cell_type": "code",
      "source": [
        "#Train and test data set created.\n",
        "X_train, X_test, y_train, y_test = train_test_split(X, y, test_size = 0.3, random_state = 42)"
      ],
      "metadata": {
        "id": "hXDIwxjj4ww1"
      },
      "execution_count": 29,
      "outputs": []
    },
    {
      "cell_type": "markdown",
      "source": [
        "A Pipeline model using Count Vectorizor, Tf-Idf, and Logistic Regression is created. A Pipeline is used to apply multiple transformations to the data as well as apply a final estimator."
      ],
      "metadata": {
        "id": "ePhzXjLJY-Iq"
      }
    },
    {
      "cell_type": "code",
      "source": [
        "#Creates a pipeline for the Logistic Regression algorithm using Count Vectorizor and Tf-Idf.\n",
        "pipeline_log = Pipeline([\n",
        "    ('vect', CountVectorizer()),  #strings to token integer counts\n",
        "    ('tfidf', TfidfTransformer()),  #integer counts to weighted TF-IDF scores\n",
        "    ('classifier', LogisticRegression()),  #train on TF-IDF vectors w/ Logistic Regression\n",
        "])"
      ],
      "metadata": {
        "id": "ed3kbYxEVPG9"
      },
      "execution_count": 30,
      "outputs": []
    },
    {
      "cell_type": "markdown",
      "source": [
        "The Pipeline Logistic Regression model is fit in the training set and the predictions are made based on the model."
      ],
      "metadata": {
        "id": "2wS2d76k7Jmm"
      }
    },
    {
      "cell_type": "code",
      "source": [
        "pipeline_log.fit(X_train, y_train)\n",
        "\n",
        "pipe_predict_log = pipeline_log.predict(X_test)"
      ],
      "metadata": {
        "id": "qTZmzUjOVTj6"
      },
      "execution_count": 31,
      "outputs": []
    },
    {
      "cell_type": "markdown",
      "source": [
        "The confusion matrix and classification report are created to see how the model performed."
      ],
      "metadata": {
        "id": "vOLEwZEzSbxy"
      }
    },
    {
      "cell_type": "code",
      "source": [
        "#Prints the confusion matrix and classification report for the logreg predictions.\n",
        "print(confusion_matrix(y_test, pipe_predict_log))\n",
        "print('\\n')\n",
        "print(classification_report(y_test, pipe_predict_log))"
      ],
      "metadata": {
        "id": "Twqq3su60Uat",
        "colab": {
          "base_uri": "https://localhost:8080/"
        },
        "outputId": "7cccf6bb-bb10-43c9-9b9e-a154928e8f46"
      },
      "execution_count": 32,
      "outputs": [
        {
          "output_type": "stream",
          "name": "stdout",
          "text": [
            "[[1193  125]\n",
            " [ 304  662]]\n",
            "\n",
            "\n",
            "              precision    recall  f1-score   support\n",
            "\n",
            "           0       0.80      0.91      0.85      1318\n",
            "           1       0.84      0.69      0.76       966\n",
            "\n",
            "    accuracy                           0.81      2284\n",
            "   macro avg       0.82      0.80      0.80      2284\n",
            "weighted avg       0.82      0.81      0.81      2284\n",
            "\n"
          ]
        }
      ]
    },
    {
      "cell_type": "markdown",
      "source": [
        "A confusion matrix plot is also created for a visualization on how well the model performed."
      ],
      "metadata": {
        "id": "lEMFcSqaSiCP"
      }
    },
    {
      "cell_type": "code",
      "source": [
        "#Create confusion matrix plot.\n",
        "plot_confusion_matrix(pipeline_log, X_test, y_test)\n",
        "#Remove grid lines to clearly see the labels.\n",
        "plt.grid(False)"
      ],
      "metadata": {
        "colab": {
          "base_uri": "https://localhost:8080/",
          "height": 340
        },
        "id": "rosUJsl6YVRB",
        "outputId": "b6e90175-d792-4ba5-f582-e721a8a72db5"
      },
      "execution_count": 33,
      "outputs": [
        {
          "output_type": "stream",
          "name": "stderr",
          "text": [
            "/usr/local/lib/python3.8/dist-packages/sklearn/utils/deprecation.py:87: FutureWarning: Function plot_confusion_matrix is deprecated; Function `plot_confusion_matrix` is deprecated in 1.0 and will be removed in 1.2. Use one of the class methods: ConfusionMatrixDisplay.from_predictions or ConfusionMatrixDisplay.from_estimator.\n",
            "  warnings.warn(msg, category=FutureWarning)\n"
          ]
        },
        {
          "output_type": "display_data",
          "data": {
            "text/plain": [
              "<Figure size 432x288 with 2 Axes>"
            ],
            "image/png": "[encoded data removed]"
          },
          "metadata": {}
        }
      ]
    },
    {
      "cell_type": "markdown",
      "source": [
        "From the confusion matrix and classification report, the model performed better predicting a normal tweet compared to a disaster tweet. The model still has a decent accuracy, with a total accuracy of 81%.\n",
        "\n",
        "Another type of model that can be performed is the Multinomial Naive Bayes algorithm. The Multinomial Naive Bayes model is a popular choice for Natural Language Processing since it's suitable for classification of discrete features (e.g. text). Please see the following link for more information:\n",
        "\n",
        "https://towardsdatascience.com/multinomial-na%C3%AFve-bayes-for-documents-classification-and-natural-language-processing-nlp-e08cc848ce6\n",
        "\n",
        "A Pipeline model using Count Vectorizor, Tf-Idf, and Multinomial Naive Bayes is created."
      ],
      "metadata": {
        "id": "zbRCg8ziSm4P"
      }
    },
    {
      "cell_type": "code",
      "source": [
        "pipeline_mb = Pipeline([\n",
        "    ('vect', CountVectorizer()),  #strings to token integer counts\n",
        "    ('tfidf', TfidfTransformer()),  #integer counts to weighted TF-IDF scores\n",
        "    ('classifier', MultinomialNB()),  #train on TF-IDF vectors w/ Naive Bayes classifier\n",
        "])"
      ],
      "metadata": {
        "id": "OO5VgLm84djq"
      },
      "execution_count": 34,
      "outputs": []
    },
    {
      "cell_type": "markdown",
      "source": [
        "The pipeline is then fit in the training set."
      ],
      "metadata": {
        "id": "WSTlg89HTreC"
      }
    },
    {
      "cell_type": "code",
      "source": [
        "pipeline_mb.fit(X_train, y_train)"
      ],
      "metadata": {
        "colab": {
          "base_uri": "https://localhost:8080/"
        },
        "id": "nqwbah-P6KOT",
        "outputId": "d0562af5-05a3-4c64-e67b-eba68bd52cb7"
      },
      "execution_count": 35,
      "outputs": [
        {
          "output_type": "execute_result",
          "data": {
            "text/plain": [
              "Pipeline(steps=[('vect', CountVectorizer()), ('tfidf', TfidfTransformer()),\n",
              "                ('classifier', MultinomialNB())])"
            ]
          },
          "metadata": {},
          "execution_count": 35
        }
      ]
    },
    {
      "cell_type": "markdown",
      "source": [
        "Next, the prediction model for the Pipeline model is created."
      ],
      "metadata": {
        "id": "Xs1yBRszTvHB"
      }
    },
    {
      "cell_type": "code",
      "source": [
        "pipe_predict_mb = pipeline_mb.predict(X_test)"
      ],
      "metadata": {
        "id": "Nty-hJQW7vaR"
      },
      "execution_count": 36,
      "outputs": []
    },
    {
      "cell_type": "markdown",
      "source": [
        "The confusion matrix and classification report are created to see how the pipeline model performed."
      ],
      "metadata": {
        "id": "jsAt1AQTT0z9"
      }
    },
    {
      "cell_type": "code",
      "source": [
        "print(confusion_matrix(y_test, pipe_predict_mb))\n",
        "print('\\n')\n",
        "print(classification_report(y_test, pipe_predict_mb))"
      ],
      "metadata": {
        "colab": {
          "base_uri": "https://localhost:8080/"
        },
        "id": "x14Okdf577tc",
        "outputId": "92ae3b11-3021-46ab-a9e6-3a673e540bce"
      },
      "execution_count": 37,
      "outputs": [
        {
          "output_type": "stream",
          "name": "stdout",
          "text": [
            "[[1192  126]\n",
            " [ 317  649]]\n",
            "\n",
            "\n",
            "              precision    recall  f1-score   support\n",
            "\n",
            "           0       0.79      0.90      0.84      1318\n",
            "           1       0.84      0.67      0.75       966\n",
            "\n",
            "    accuracy                           0.81      2284\n",
            "   macro avg       0.81      0.79      0.79      2284\n",
            "weighted avg       0.81      0.81      0.80      2284\n",
            "\n"
          ]
        }
      ]
    },
    {
      "cell_type": "markdown",
      "source": [
        "A confusion matrix plot is also created for a visualization on how well the model performed."
      ],
      "metadata": {
        "id": "hxvTAD9DUAfB"
      }
    },
    {
      "cell_type": "code",
      "source": [
        "#Create confusion matrix plot.\n",
        "plot_confusion_matrix(pipeline_mb, X_test, y_test)\n",
        "#Remove grid lines to clearly see the labels.\n",
        "plt.grid(False)"
      ],
      "metadata": {
        "colab": {
          "base_uri": "https://localhost:8080/",
          "height": 340
        },
        "id": "HFo-HPaZYLB3",
        "outputId": "e48b2de0-f9f6-47ea-e37f-94ceb66e4951"
      },
      "execution_count": 38,
      "outputs": [
        {
          "output_type": "stream",
          "name": "stderr",
          "text": [
            "/usr/local/lib/python3.8/dist-packages/sklearn/utils/deprecation.py:87: FutureWarning: Function plot_confusion_matrix is deprecated; Function `plot_confusion_matrix` is deprecated in 1.0 and will be removed in 1.2. Use one of the class methods: ConfusionMatrixDisplay.from_predictions or ConfusionMatrixDisplay.from_estimator.\n",
            "  warnings.warn(msg, category=FutureWarning)\n"
          ]
        },
        {
          "output_type": "display_data",
          "data": {
            "text/plain": [
              "<Figure size 432x288 with 2 Axes>"
            ],
            "image/png": "[encoded data removed]"
          },
          "metadata": {}
        }
      ]
    },
    {
      "cell_type": "markdown",
      "source": [
        "It appears the Multinomial Naive Bayes model did not perform any better than the Logistic Regression model. If anything, it appears the Multinomial Naive Bayes model performed a little worse."
      ],
      "metadata": {
        "id": "sFQ9R1iTUEw9"
      }
    },
    {
      "cell_type": "markdown",
      "source": [
        "## **Predict the Test Set**"
      ],
      "metadata": {
        "id": "eTZfJvcW_1jB"
      }
    },
    {
      "cell_type": "markdown",
      "source": [
        "The Logistic Regression Pipeline model will be applied to the provided test data set in order to predict normal and disaster tweets.\n",
        "\n",
        "Before running the model, the functions created for the training data frame are applied to the testing data frame."
      ],
      "metadata": {
        "id": "Up3iLj3YUM-I"
      }
    },
    {
      "cell_type": "code",
      "source": [
        "test_df['text'] = test_df['text'].apply(lambda x: text_cleaner(x))\n",
        "test_df['text'] = test_df['text'].apply(lambda x: remove_emoji(x))\n",
        "test_df['text'] = test_df['text'].apply(lambda x:lemmatize_text(x))"
      ],
      "metadata": {
        "id": "5IbR1ArpYZ9f"
      },
      "execution_count": 39,
      "outputs": []
    },
    {
      "cell_type": "markdown",
      "source": [
        "The first five rows of the testing data frame are viewed."
      ],
      "metadata": {
        "id": "fcVaFbZE8Lg5"
      }
    },
    {
      "cell_type": "code",
      "source": [
        "test_df.head()"
      ],
      "metadata": {
        "colab": {
          "base_uri": "https://localhost:8080/",
          "height": 206
        },
        "id": "MijO7clyfxID",
        "outputId": "ff79b76c-a07d-44e8-dd01-2b542739eebc"
      },
      "execution_count": 40,
      "outputs": [
        {
          "output_type": "execute_result",
          "data": {
            "text/plain": [
              "   id keyword location                                               text\n",
              "0   0     NaN      NaN                   just happened terrible car crash\n",
              "1   2     NaN      NaN  heard earthquake different city stay safe ever...\n",
              "2   3     NaN      NaN  forest fire spot pond goose fleeing across str...\n",
              "3   9     NaN      NaN               apocalypse lighting spokane wildfire\n",
              "4  11     NaN      NaN                    typhoon soudelor kill china tai"
            ],
            "text/html": [
              "\n",
              "  <div id=\"df-0dd3b133-8567-4936-af43-cfe0af154900\">\n",
              "    <div class=\"colab-df-container\">\n",
              "      <div>\n",
              "<style scoped>\n",
              "    .dataframe tbody tr th:only-of-type {\n",
              "        vertical-align: middle;\n",
              "    }\n",
              "\n",
              "    .dataframe tbody tr th {\n",
              "        vertical-align: top;\n",
              "    }\n",
              "\n",
              "    .dataframe thead th {\n",
              "        text-align: right;\n",
              "    }\n",
              "</style>\n",
              "<table border=\"1\" class=\"dataframe\">\n",
              "  <thead>\n",
              "    <tr style=\"text-align: right;\">\n",
              "      <th></th>\n",
              "      <th>id</th>\n",
              "      <th>keyword</th>\n",
              "      <th>location</th>\n",
              "      <th>text</th>\n",
              "    </tr>\n",
              "  </thead>\n",
              "  <tbody>\n",
              "    <tr>\n",
              "      <th>0</th>\n",
              "      <td>0</td>\n",
              "      <td>NaN</td>\n",
              "      <td>NaN</td>\n",
              "      <td>just happened terrible car crash</td>\n",
              "    </tr>\n",
              "    <tr>\n",
              "      <th>1</th>\n",
              "      <td>2</td>\n",
              "      <td>NaN</td>\n",
              "      <td>NaN</td>\n",
              "      <td>heard earthquake different city stay safe ever...</td>\n",
              "    </tr>\n",
              "    <tr>\n",
              "      <th>2</th>\n",
              "      <td>3</td>\n",
              "      <td>NaN</td>\n",
              "      <td>NaN</td>\n",
              "      <td>forest fire spot pond goose fleeing across str...</td>\n",
              "    </tr>\n",
              "    <tr>\n",
              "      <th>3</th>\n",
              "      <td>9</td>\n",
              "      <td>NaN</td>\n",
              "      <td>NaN</td>\n",
              "      <td>apocalypse lighting spokane wildfire</td>\n",
              "    </tr>\n",
              "    <tr>\n",
              "      <th>4</th>\n",
              "      <td>11</td>\n",
              "      <td>NaN</td>\n",
              "      <td>NaN</td>\n",
              "      <td>typhoon soudelor kill china tai</td>\n",
              "    </tr>\n",
              "  </tbody>\n",
              "</table>\n",
              "</div>\n",
              "      <button class=\"colab-df-convert\" onclick=\"convertToInteractive('df-0dd3b133-8567-4936-af43-cfe0af154900')\"\n",
              "              title=\"Convert this dataframe to an interactive table.\"\n",
              "              style=\"display:none;\">\n",
              "        \n",
              "  <svg xmlns=\"http://www.w3.org/2000/svg\" height=\"24px\"viewBox=\"0 0 24 24\"\n",
              "       width=\"24px\">\n",
              "    <path d=\"M0 0h24v24H0V0z\" fill=\"none\"/>\n",
              "    <path d=\"M18.56 5.44l.94 2.06.94-2.06 2.06-.94-2.06-.94-.94-2.06-.94 2.06-2.06.94zm-11 1L8.5 8.5l.94-2.06 2.06-.94-2.06-.94L8.5 2.5l-.94 2.06-2.06.94zm10 10l.94 2.06.94-2.06 2.06-.94-2.06-.94-.94-2.06-.94 2.06-2.06.94z\"/><path d=\"M17.41 7.96l-1.37-1.37c-.4-.4-.92-.59-1.43-.59-.52 0-1.04.2-1.43.59L10.3 9.45l-7.72 7.72c-.78.78-.78 2.05 0 2.83L4 21.41c.39.39.9.59 1.41.59.51 0 1.02-.2 1.41-.59l7.78-7.78 2.81-2.81c.8-.78.8-2.07 0-2.86zM5.41 20L4 18.59l7.72-7.72 1.47 1.35L5.41 20z\"/>\n",
              "  </svg>\n",
              "      </button>\n",
              "      \n",
              "  <style>\n",
              "    .colab-df-container {\n",
              "      display:flex;\n",
              "      flex-wrap:wrap;\n",
              "      gap: 12px;\n",
              "    }\n",
              "\n",
              "    .colab-df-convert {\n",
              "      background-color: #E8F0FE;\n",
              "      border: none;\n",
              "      border-radius: 50%;\n",
              "      cursor: pointer;\n",
              "      display: none;\n",
              "      fill: #1967D2;\n",
              "      height: 32px;\n",
              "      padding: 0 0 0 0;\n",
              "      width: 32px;\n",
              "    }\n",
              "\n",
              "    .colab-df-convert:hover {\n",
              "      background-color: #E2EBFA;\n",
              "      box-shadow: 0px 1px 2px rgba(60, 64, 67, 0.3), 0px 1px 3px 1px rgba(60, 64, 67, 0.15);\n",
              "      fill: #174EA6;\n",
              "    }\n",
              "\n",
              "    [theme=dark] .colab-df-convert {\n",
              "      background-color: #3B4455;\n",
              "      fill: #D2E3FC;\n",
              "    }\n",
              "\n",
              "    [theme=dark] .colab-df-convert:hover {\n",
              "      background-color: #434B5C;\n",
              "      box-shadow: 0px 1px 3px 1px rgba(0, 0, 0, 0.15);\n",
              "      filter: drop-shadow(0px 1px 2px rgba(0, 0, 0, 0.3));\n",
              "      fill: #FFFFFF;\n",
              "    }\n",
              "  </style>\n",
              "\n",
              "      <script>\n",
              "        const buttonEl =\n",
              "          document.querySelector('#df-0dd3b133-8567-4936-af43-cfe0af154900 button.colab-df-convert');\n",
              "        buttonEl.style.display =\n",
              "          google.colab.kernel.accessAllowed ? 'block' : 'none';\n",
              "\n",
              "        async function convertToInteractive(key) {\n",
              "          const element = document.querySelector('#df-0dd3b133-8567-4936-af43-cfe0af154900');\n",
              "          const dataTable =\n",
              "            await google.colab.kernel.invokeFunction('convertToInteractive',\n",
              "                                                     [key], {});\n",
              "          if (!dataTable) return;\n",
              "\n",
              "          const docLinkHtml = 'Like what you see? Visit the ' +\n",
              "            '<a target=\"_blank\" href=https://colab.research.google.com/notebooks/data_table.ipynb>data table notebook</a>'\n",
              "            + ' to learn more about interactive tables.';\n",
              "          element.innerHTML = '';\n",
              "          dataTable['output_type'] = 'display_data';\n",
              "          await google.colab.output.renderOutput(dataTable, element);\n",
              "          const docLink = document.createElement('div');\n",
              "          docLink.innerHTML = docLinkHtml;\n",
              "          element.appendChild(docLink);\n",
              "        }\n",
              "      </script>\n",
              "    </div>\n",
              "  </div>\n",
              "  "
            ]
          },
          "metadata": {},
          "execution_count": 40
        }
      ]
    },
    {
      "cell_type": "markdown",
      "source": [
        "The prediction model is run on the 'text' column in the testing data frame."
      ],
      "metadata": {
        "id": "uDMOqVg68woL"
      }
    },
    {
      "cell_type": "code",
      "source": [
        "pipe_test_predict = pipeline_log.predict(test_df['text'])"
      ],
      "metadata": {
        "id": "TAMBtVgZUbdm"
      },
      "execution_count": 41,
      "outputs": []
    },
    {
      "cell_type": "markdown",
      "source": [
        "The submission file is set up, the one column showing the ID and the other the target prediction score."
      ],
      "metadata": {
        "id": "WPMuEfWF9Ylu"
      }
    },
    {
      "cell_type": "code",
      "source": [
        "submission = test_df[['id']].reset_index(drop = True)\n",
        "\n",
        "submission['target'] = pipe_test_predict.astype('int64')"
      ],
      "metadata": {
        "id": "KwejAzoRAllG"
      },
      "execution_count": 42,
      "outputs": []
    },
    {
      "cell_type": "markdown",
      "source": [
        "Below is the setup of the submission data frame."
      ],
      "metadata": {
        "id": "nng00u9Z-JtI"
      }
    },
    {
      "cell_type": "code",
      "source": [
        "submission"
      ],
      "metadata": {
        "colab": {
          "base_uri": "https://localhost:8080/",
          "height": 423
        },
        "id": "v-3y9j5iA0Je",
        "outputId": "4f338888-05e9-42e0-88e5-6527993756ad"
      },
      "execution_count": 43,
      "outputs": [
        {
          "output_type": "execute_result",
          "data": {
            "text/plain": [
              "         id  target\n",
              "0         0       1\n",
              "1         2       1\n",
              "2         3       1\n",
              "3         9       1\n",
              "4        11       1\n",
              "...     ...     ...\n",
              "3258  10861       1\n",
              "3259  10865       0\n",
              "3260  10868       1\n",
              "3261  10874       1\n",
              "3262  10875       1\n",
              "\n",
              "[3263 rows x 2 columns]"
            ],
            "text/html": [
              "\n",
              "  <div id=\"df-7ef36c24-aefe-41f9-89e9-e67ee10185a4\">\n",
              "    <div class=\"colab-df-container\">\n",
              "      <div>\n",
              "<style scoped>\n",
              "    .dataframe tbody tr th:only-of-type {\n",
              "        vertical-align: middle;\n",
              "    }\n",
              "\n",
              "    .dataframe tbody tr th {\n",
              "        vertical-align: top;\n",
              "    }\n",
              "\n",
              "    .dataframe thead th {\n",
              "        text-align: right;\n",
              "    }\n",
              "</style>\n",
              "<table border=\"1\" class=\"dataframe\">\n",
              "  <thead>\n",
              "    <tr style=\"text-align: right;\">\n",
              "      <th></th>\n",
              "      <th>id</th>\n",
              "      <th>target</th>\n",
              "    </tr>\n",
              "  </thead>\n",
              "  <tbody>\n",
              "    <tr>\n",
              "      <th>0</th>\n",
              "      <td>0</td>\n",
              "      <td>1</td>\n",
              "    </tr>\n",
              "    <tr>\n",
              "      <th>1</th>\n",
              "      <td>2</td>\n",
              "      <td>1</td>\n",
              "    </tr>\n",
              "    <tr>\n",
              "      <th>2</th>\n",
              "      <td>3</td>\n",
              "      <td>1</td>\n",
              "    </tr>\n",
              "    <tr>\n",
              "      <th>3</th>\n",
              "      <td>9</td>\n",
              "      <td>1</td>\n",
              "    </tr>\n",
              "    <tr>\n",
              "      <th>4</th>\n",
              "      <td>11</td>\n",
              "      <td>1</td>\n",
              "    </tr>\n",
              "    <tr>\n",
              "      <th>...</th>\n",
              "      <td>...</td>\n",
              "      <td>...</td>\n",
              "    </tr>\n",
              "    <tr>\n",
              "      <th>3258</th>\n",
              "      <td>10861</td>\n",
              "      <td>1</td>\n",
              "    </tr>\n",
              "    <tr>\n",
              "      <th>3259</th>\n",
              "      <td>10865</td>\n",
              "      <td>0</td>\n",
              "    </tr>\n",
              "    <tr>\n",
              "      <th>3260</th>\n",
              "      <td>10868</td>\n",
              "      <td>1</td>\n",
              "    </tr>\n",
              "    <tr>\n",
              "      <th>3261</th>\n",
              "      <td>10874</td>\n",
              "      <td>1</td>\n",
              "    </tr>\n",
              "    <tr>\n",
              "      <th>3262</th>\n",
              "      <td>10875</td>\n",
              "      <td>1</td>\n",
              "    </tr>\n",
              "  </tbody>\n",
              "</table>\n",
              "<p>3263 rows × 2 columns</p>\n",
              "</div>\n",
              "      <button class=\"colab-df-convert\" onclick=\"convertToInteractive('df-7ef36c24-aefe-41f9-89e9-e67ee10185a4')\"\n",
              "              title=\"Convert this dataframe to an interactive table.\"\n",
              "              style=\"display:none;\">\n",
              "        \n",
              "  <svg xmlns=\"http://www.w3.org/2000/svg\" height=\"24px\"viewBox=\"0 0 24 24\"\n",
              "       width=\"24px\">\n",
              "    <path d=\"M0 0h24v24H0V0z\" fill=\"none\"/>\n",
              "    <path d=\"M18.56 5.44l.94 2.06.94-2.06 2.06-.94-2.06-.94-.94-2.06-.94 2.06-2.06.94zm-11 1L8.5 8.5l.94-2.06 2.06-.94-2.06-.94L8.5 2.5l-.94 2.06-2.06.94zm10 10l.94 2.06.94-2.06 2.06-.94-2.06-.94-.94-2.06-.94 2.06-2.06.94z\"/><path d=\"M17.41 7.96l-1.37-1.37c-.4-.4-.92-.59-1.43-.59-.52 0-1.04.2-1.43.59L10.3 9.45l-7.72 7.72c-.78.78-.78 2.05 0 2.83L4 21.41c.39.39.9.59 1.41.59.51 0 1.02-.2 1.41-.59l7.78-7.78 2.81-2.81c.8-.78.8-2.07 0-2.86zM5.41 20L4 18.59l7.72-7.72 1.47 1.35L5.41 20z\"/>\n",
              "  </svg>\n",
              "      </button>\n",
              "      \n",
              "  <style>\n",
              "    .colab-df-container {\n",
              "      display:flex;\n",
              "      flex-wrap:wrap;\n",
              "      gap: 12px;\n",
              "    }\n",
              "\n",
              "    .colab-df-convert {\n",
              "      background-color: #E8F0FE;\n",
              "      border: none;\n",
              "      border-radius: 50%;\n",
              "      cursor: pointer;\n",
              "      display: none;\n",
              "      fill: #1967D2;\n",
              "      height: 32px;\n",
              "      padding: 0 0 0 0;\n",
              "      width: 32px;\n",
              "    }\n",
              "\n",
              "    .colab-df-convert:hover {\n",
              "      background-color: #E2EBFA;\n",
              "      box-shadow: 0px 1px 2px rgba(60, 64, 67, 0.3), 0px 1px 3px 1px rgba(60, 64, 67, 0.15);\n",
              "      fill: #174EA6;\n",
              "    }\n",
              "\n",
              "    [theme=dark] .colab-df-convert {\n",
              "      background-color: #3B4455;\n",
              "      fill: #D2E3FC;\n",
              "    }\n",
              "\n",
              "    [theme=dark] .colab-df-convert:hover {\n",
              "      background-color: #434B5C;\n",
              "      box-shadow: 0px 1px 3px 1px rgba(0, 0, 0, 0.15);\n",
              "      filter: drop-shadow(0px 1px 2px rgba(0, 0, 0, 0.3));\n",
              "      fill: #FFFFFF;\n",
              "    }\n",
              "  </style>\n",
              "\n",
              "      <script>\n",
              "        const buttonEl =\n",
              "          document.querySelector('#df-7ef36c24-aefe-41f9-89e9-e67ee10185a4 button.colab-df-convert');\n",
              "        buttonEl.style.display =\n",
              "          google.colab.kernel.accessAllowed ? 'block' : 'none';\n",
              "\n",
              "        async function convertToInteractive(key) {\n",
              "          const element = document.querySelector('#df-7ef36c24-aefe-41f9-89e9-e67ee10185a4');\n",
              "          const dataTable =\n",
              "            await google.colab.kernel.invokeFunction('convertToInteractive',\n",
              "                                                     [key], {});\n",
              "          if (!dataTable) return;\n",
              "\n",
              "          const docLinkHtml = 'Like what you see? Visit the ' +\n",
              "            '<a target=\"_blank\" href=https://colab.research.google.com/notebooks/data_table.ipynb>data table notebook</a>'\n",
              "            + ' to learn more about interactive tables.';\n",
              "          element.innerHTML = '';\n",
              "          dataTable['output_type'] = 'display_data';\n",
              "          await google.colab.output.renderOutput(dataTable, element);\n",
              "          const docLink = document.createElement('div');\n",
              "          docLink.innerHTML = docLinkHtml;\n",
              "          element.appendChild(docLink);\n",
              "        }\n",
              "      </script>\n",
              "    </div>\n",
              "  </div>\n",
              "  "
            ]
          },
          "metadata": {},
          "execution_count": 43
        }
      ]
    },
    {
      "cell_type": "markdown",
      "source": [
        "The submission is saved as a .csv file."
      ],
      "metadata": {
        "id": "Hgf4V-Di-T_n"
      }
    },
    {
      "cell_type": "code",
      "source": [
        "submission.to_csv('submission.csv', index = False)"
      ],
      "metadata": {
        "id": "QcCSm3YuA8X4"
      },
      "execution_count": 44,
      "outputs": []
    },
    {
      "cell_type": "markdown",
      "source": [
        "## **Thank You**"
      ],
      "metadata": {
        "id": "lW9bthRw-XAY"
      }
    },
    {
      "cell_type": "markdown",
      "source": [
        "Thank you for viewing my session. As stated, this session was used in a Kaggle competition to try to create an accurate prediction model."
      ],
      "metadata": {
        "id": "XDTJ3Sgq-dUz"
      }
    }
  ]
}